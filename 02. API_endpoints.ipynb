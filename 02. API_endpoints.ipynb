{
 "cells": [
  {
   "cell_type": "markdown",
   "id": "be5142c7",
   "metadata": {},
   "source": [
    "### Libraries 📚"
   ]
  },
  {
   "cell_type": "code",
   "execution_count": 1,
   "id": "57e0559d",
   "metadata": {},
   "outputs": [],
   "source": [
    "from pymongo import MongoClient\n",
    "import requests"
   ]
  },
  {
   "cell_type": "markdown",
   "id": "ba780819",
   "metadata": {},
   "source": [
    "###  API call to GET data  📱"
   ]
  },
  {
   "cell_type": "markdown",
   "id": "a3fc0713",
   "metadata": {},
   "source": [
    "#### What tweets has City A.M. posted? 🤔"
   ]
  },
  {
   "cell_type": "code",
   "execution_count": 11,
   "id": "e98a9b13",
   "metadata": {},
   "outputs": [],
   "source": [
    "url = \"http://127.0.0.1:5000/tweets/\""
   ]
  },
  {
   "cell_type": "code",
   "execution_count": 12,
   "id": "766b594d",
   "metadata": {},
   "outputs": [],
   "source": [
    "user_name = \"City A.M.\""
   ]
  },
  {
   "cell_type": "code",
   "execution_count": 26,
   "id": "18a6a2cf",
   "metadata": {},
   "outputs": [],
   "source": [
    "frases = requests.get(url + user_name).json()"
   ]
  },
  {
   "cell_type": "code",
   "execution_count": 28,
   "id": "15e2b677",
   "metadata": {},
   "outputs": [
    {
     "data": {
      "text/plain": [
       "{'date': '2020-12-12',\n",
       " 'favorites': '1',\n",
       " 'hashtags': 'vaccine',\n",
       " 'text': \"Trump announces #vaccine rollout 'in less than 24 hours'\\n\\nThe first Americans will be vaccinated againstâ\\x80¦ https://t.co/2FzQSMnhoY\",\n",
       " 'user_followers': 66224,\n",
       " 'user_location': 'London, England',\n",
       " 'user_name': 'City A.M.'}"
      ]
     },
     "execution_count": 28,
     "metadata": {},
     "output_type": "execute_result"
    }
   ],
   "source": [
    "frases[0]"
   ]
  },
  {
   "cell_type": "markdown",
   "id": "5a2fc66d",
   "metadata": {},
   "source": [
    "#### What tweets have the Location in London?  📍"
   ]
  },
  {
   "cell_type": "code",
   "execution_count": 29,
   "id": "59c88c11",
   "metadata": {},
   "outputs": [],
   "source": [
    "url = \"http://127.0.0.1:5000/locations/\""
   ]
  },
  {
   "cell_type": "code",
   "execution_count": 36,
   "id": "b5fa7c60",
   "metadata": {},
   "outputs": [],
   "source": [
    "user_name = \"London, UK\""
   ]
  },
  {
   "cell_type": "code",
   "execution_count": 37,
   "id": "cdc37423",
   "metadata": {},
   "outputs": [],
   "source": [
    "frases = requests.get(url + user_name).json()"
   ]
  },
  {
   "cell_type": "code",
   "execution_count": 38,
   "id": "4d2995cf",
   "metadata": {},
   "outputs": [
    {
     "data": {
      "text/plain": [
       "{'date': '2020-12-14',\n",
       " 'favorites': '2',\n",
       " 'hashtags': 'Iran, PfizerBioNTech, vaccine',\n",
       " 'text': '#Iran has told the World Health Organization it does not intend to import the #PfizerBioNTech Covid-19 #vaccine becâ\\x80¦ https://t.co/sJM874Mkc7',\n",
       " 'user_followers': 17943,\n",
       " 'user_location': 'London, UK',\n",
       " 'user_name': 'Iran International English'}"
      ]
     },
     "execution_count": 38,
     "metadata": {},
     "output_type": "execute_result"
    }
   ],
   "source": [
    "frases[0]"
   ]
  },
  {
   "cell_type": "markdown",
   "id": "44752dfd",
   "metadata": {},
   "source": [
    "#### What tweets have the hashtag PfizerBioNTech? 🤔"
   ]
  },
  {
   "cell_type": "code",
   "execution_count": 77,
   "id": "5a194f3e",
   "metadata": {},
   "outputs": [],
   "source": [
    "url_vax = \"http://127.0.0.1:5000/hashtags/\""
   ]
  },
  {
   "cell_type": "code",
   "execution_count": 78,
   "id": "903dd1bc",
   "metadata": {},
   "outputs": [],
   "source": [
    "vaccine = \"PfizerBioNTech\""
   ]
  },
  {
   "cell_type": "code",
   "execution_count": 79,
   "id": "88c1bf9b",
   "metadata": {},
   "outputs": [],
   "source": [
    "frase = requests.get(url_vax + vaccine).json()"
   ]
  },
  {
   "cell_type": "code",
   "execution_count": 80,
   "id": "1dfa44fa",
   "metadata": {},
   "outputs": [
    {
     "data": {
      "text/plain": [
       "{'date': '2020-12-20',\n",
       " 'favorites': '0',\n",
       " 'hashtags': 'PfizerBioNTech',\n",
       " 'text': 'Same folks said daikon paste could treat a cytokine storm #PfizerBioNTech https://t.co/xeHhIMg1kF',\n",
       " 'user_followers': 405,\n",
       " 'user_location': 'La Crescenta-Montrose, CA',\n",
       " 'user_name': 'Rachel Roh'}"
      ]
     },
     "execution_count": 80,
     "metadata": {},
     "output_type": "execute_result"
    }
   ],
   "source": [
    "frase[0]"
   ]
  },
  {
   "cell_type": "markdown",
   "id": "23ca81ae",
   "metadata": {},
   "source": [
    "#### Which tweets have been posted on March 2021 related to AstraZeneca? "
   ]
  },
  {
   "cell_type": "code",
   "execution_count": 73,
   "id": "edbeee40",
   "metadata": {},
   "outputs": [],
   "source": [
    "url = \"http://127.0.0.1:5000/date/2021-03-15/hashtags/\""
   ]
  },
  {
   "cell_type": "code",
   "execution_count": 74,
   "id": "381ce4d4",
   "metadata": {},
   "outputs": [],
   "source": [
    "user_name = \"AstraZeneca\""
   ]
  },
  {
   "cell_type": "code",
   "execution_count": 75,
   "id": "cc823292",
   "metadata": {},
   "outputs": [],
   "source": [
    "frases = requests.get(url + user_name).json()"
   ]
  },
  {
   "cell_type": "code",
   "execution_count": 76,
   "id": "7871a40e",
   "metadata": {},
   "outputs": [
    {
     "data": {
      "text/plain": [
       "[{'date': '2021-03-15',\n",
       "  'favorites': '2',\n",
       "  'hashtags': 'AstraZeneca',\n",
       "  'text': '@Marije37620210 @MagAli306 I was set to get mine tomorrow but all #AstraZeneca vaccinations have been postponed inâ\\x80¦ https://t.co/rv6dmll6vE',\n",
       "  'user_followers': 222,\n",
       "  'user_location': 'Netherlands',\n",
       "  'user_name': 'Eve Colours'},\n",
       " {'date': '2021-03-15',\n",
       "  'favorites': '1',\n",
       "  'hashtags': 'AstraZeneca',\n",
       "  'text': \"Even I think it's political over #AstraZeneca it's biggest saling vaccination. As EU slow at gettingâ\\x80¦ https://t.co/U1jGIFPAEK\",\n",
       "  'user_followers': 2038,\n",
       "  'user_location': 'Canterbury kent',\n",
       "  'user_name': 'Tim Shufflebotham'}]"
      ]
     },
     "execution_count": 76,
     "metadata": {},
     "output_type": "execute_result"
    }
   ],
   "source": [
    "frases"
   ]
  },
  {
   "cell_type": "markdown",
   "id": "f00eea7c",
   "metadata": {},
   "source": [
    "### API call to ENTER data 📲"
   ]
  },
  {
   "cell_type": "code",
   "execution_count": 81,
   "id": "36f33b66",
   "metadata": {},
   "outputs": [],
   "source": [
    "datos = {\"user_name\": \"Aysha Ridzuan\",\n",
    "    \"user_location\": \"Malaysia\",\n",
    "    \"date\": '2021-05-02',\n",
    "    \"favorites\": 1913,\n",
    "    \"text\": \"My decision to book AstraZeneca is easy. I need to protect my daughter who cannot get the vaccine and I want it quick. I'm aware about blood clots risk but getting covid is scarier.\"}"
   ]
  },
  {
   "cell_type": "code",
   "execution_count": 82,
   "id": "c2c61364",
   "metadata": {},
   "outputs": [],
   "source": [
    "url = \"http://127.0.0.1:5000/nuevafrase\""
   ]
  },
  {
   "cell_type": "code",
   "execution_count": 83,
   "id": "beb1e1e2",
   "metadata": {},
   "outputs": [
    {
     "data": {
      "text/plain": [
       "<Response [200]>"
      ]
     },
     "execution_count": 83,
     "metadata": {},
     "output_type": "execute_result"
    }
   ],
   "source": [
    "requests.post(url, data=datos)"
   ]
  }
 ],
 "metadata": {
  "kernelspec": {
   "display_name": "ironhack",
   "language": "python",
   "name": "ironhack"
  },
  "language_info": {
   "codemirror_mode": {
    "name": "ipython",
    "version": 3
   },
   "file_extension": ".py",
   "mimetype": "text/x-python",
   "name": "python",
   "nbconvert_exporter": "python",
   "pygments_lexer": "ipython3",
   "version": "3.8.8"
  }
 },
 "nbformat": 4,
 "nbformat_minor": 5
}
