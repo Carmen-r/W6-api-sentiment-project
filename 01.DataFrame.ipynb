{
 "cells": [
  {
   "cell_type": "markdown",
   "id": "ee5b6f0b",
   "metadata": {},
   "source": [
    "## DF for MongoDB 💻"
   ]
  },
  {
   "cell_type": "markdown",
   "id": "0047e5f3",
   "metadata": {},
   "source": [
    "### Libraries 📚"
   ]
  },
  {
   "cell_type": "code",
   "execution_count": 1,
   "id": "ad4c1974",
   "metadata": {},
   "outputs": [],
   "source": [
    "import pandas as pd\n",
    "import scr.cleaning as cl"
   ]
  },
  {
   "cell_type": "markdown",
   "id": "a30b7aec",
   "metadata": {},
   "source": [
    "### Download from Kaggle ⚡️"
   ]
  },
  {
   "cell_type": "code",
   "execution_count": 1,
   "id": "a5bbcb24",
   "metadata": {},
   "outputs": [
    {
     "name": "stdout",
     "output_type": "stream",
     "text": [
      "Warning: Your Kaggle API key is readable by other users on this system! To fix this, you can run 'chmod 600 /Users/Carmenrodriguez/.kaggle/kaggle.json'\n",
      "Downloading pfizer-vaccine-tweets.zip to /Users/Carmenrodriguez/Desktop/W6-api-sentiment-project\n",
      "100%|██████████████████████████████████████| 1.30M/1.30M [00:01<00:00, 1.01MB/s]\n",
      "100%|██████████████████████████████████████| 1.30M/1.30M [00:01<00:00, 1.05MB/s]\n"
     ]
    }
   ],
   "source": [
    "!kaggle datasets download -d gpreda/pfizer-vaccine-tweets"
   ]
  },
  {
   "cell_type": "code",
   "execution_count": 3,
   "id": "25b96fe3",
   "metadata": {},
   "outputs": [
    {
     "name": "stdout",
     "output_type": "stream",
     "text": [
      "x vaccination_tweets.csv\r\n"
     ]
    }
   ],
   "source": [
    "!tar -xzvf pfizer-vaccine-tweets.zip"
   ]
  },
  {
   "cell_type": "code",
   "execution_count": 4,
   "id": "0edff6be",
   "metadata": {},
   "outputs": [],
   "source": [
    "!rm -rf pfizer-vaccine-tweets.zip"
   ]
  },
  {
   "cell_type": "code",
   "execution_count": 5,
   "id": "edb94653",
   "metadata": {},
   "outputs": [
    {
     "name": "stdout",
     "output_type": "stream",
     "text": [
      "README.md\r\n",
      "Untitled.ipynb\r\n",
      "Untitled1.ipynb\r\n",
      "\u001b[1m\u001b[36mconfig\u001b[m\u001b[m\r\n",
      "covid19_tweets.csv\r\n",
      "\u001b[1m\u001b[36mdata\u001b[m\u001b[m\r\n",
      "\u001b[1m\u001b[36mimages\u001b[m\u001b[m\r\n",
      "mongoapi.py\r\n",
      "\u001b[1m\u001b[36mtools\u001b[m\u001b[m\r\n",
      "training.1600000.processed.noemoticon 2.csv\r\n",
      "trump_tweets.csv\r\n",
      "vaccination_tweets.csv\r\n"
     ]
    }
   ],
   "source": [
    "!ls"
   ]
  },
  {
   "cell_type": "code",
   "execution_count": 2,
   "id": "c10eade8",
   "metadata": {},
   "outputs": [
    {
     "data": {
      "text/html": [
       "<div>\n",
       "<style scoped>\n",
       "    .dataframe tbody tr th:only-of-type {\n",
       "        vertical-align: middle;\n",
       "    }\n",
       "\n",
       "    .dataframe tbody tr th {\n",
       "        vertical-align: top;\n",
       "    }\n",
       "\n",
       "    .dataframe thead th {\n",
       "        text-align: right;\n",
       "    }\n",
       "</style>\n",
       "<table border=\"1\" class=\"dataframe\">\n",
       "  <thead>\n",
       "    <tr style=\"text-align: right;\">\n",
       "      <th></th>\n",
       "      <th>id</th>\n",
       "      <th>user_name</th>\n",
       "      <th>user_location</th>\n",
       "      <th>user_description</th>\n",
       "      <th>user_created</th>\n",
       "      <th>user_followers</th>\n",
       "      <th>user_friends</th>\n",
       "      <th>user_favourites</th>\n",
       "      <th>user_verified</th>\n",
       "      <th>date</th>\n",
       "      <th>text</th>\n",
       "      <th>hashtags</th>\n",
       "      <th>source</th>\n",
       "      <th>retweets</th>\n",
       "      <th>favorites</th>\n",
       "      <th>is_retweet</th>\n",
       "    </tr>\n",
       "  </thead>\n",
       "  <tbody>\n",
       "    <tr>\n",
       "      <th>0</th>\n",
       "      <td>1340539111971516416</td>\n",
       "      <td>Rachel Roh</td>\n",
       "      <td>La Crescenta-Montrose, CA</td>\n",
       "      <td>Aggregator of Asian American news; scanning di...</td>\n",
       "      <td>2009-04-08 17:52:46</td>\n",
       "      <td>405</td>\n",
       "      <td>1692</td>\n",
       "      <td>3247</td>\n",
       "      <td>False</td>\n",
       "      <td>2020-12-20 06:06:44</td>\n",
       "      <td>Same folks said daikon paste could treat a cyt...</td>\n",
       "      <td>['PfizerBioNTech']</td>\n",
       "      <td>Twitter for Android</td>\n",
       "      <td>0</td>\n",
       "      <td>0</td>\n",
       "      <td>False</td>\n",
       "    </tr>\n",
       "    <tr>\n",
       "      <th>1</th>\n",
       "      <td>1338158543359250433</td>\n",
       "      <td>Albert Fong</td>\n",
       "      <td>San Francisco, CA</td>\n",
       "      <td>Marketing dude, tech geek, heavy metal &amp; '80s ...</td>\n",
       "      <td>2009-09-21 15:27:30</td>\n",
       "      <td>834</td>\n",
       "      <td>666</td>\n",
       "      <td>178</td>\n",
       "      <td>False</td>\n",
       "      <td>2020-12-13 16:27:13</td>\n",
       "      <td>While the world has been on the wrong side of ...</td>\n",
       "      <td>NaN</td>\n",
       "      <td>Twitter Web App</td>\n",
       "      <td>1</td>\n",
       "      <td>1</td>\n",
       "      <td>False</td>\n",
       "    </tr>\n",
       "    <tr>\n",
       "      <th>2</th>\n",
       "      <td>1337858199140118533</td>\n",
       "      <td>elið±ð¹ðªðºð</td>\n",
       "      <td>Your Bed</td>\n",
       "      <td>heil, hydra ðâº</td>\n",
       "      <td>2020-06-25 23:30:28</td>\n",
       "      <td>10</td>\n",
       "      <td>88</td>\n",
       "      <td>155</td>\n",
       "      <td>False</td>\n",
       "      <td>2020-12-12 20:33:45</td>\n",
       "      <td>#coronavirus #SputnikV #AstraZeneca #PfizerBio...</td>\n",
       "      <td>['coronavirus', 'SputnikV', 'AstraZeneca', 'Pf...</td>\n",
       "      <td>Twitter for Android</td>\n",
       "      <td>0</td>\n",
       "      <td>0</td>\n",
       "      <td>False</td>\n",
       "    </tr>\n",
       "    <tr>\n",
       "      <th>3</th>\n",
       "      <td>1337855739918835717</td>\n",
       "      <td>Charles Adler</td>\n",
       "      <td>Vancouver, BC - Canada</td>\n",
       "      <td>Hosting \"CharlesAdlerTonight\" Global News Radi...</td>\n",
       "      <td>2008-09-10 11:28:53</td>\n",
       "      <td>49165</td>\n",
       "      <td>3933</td>\n",
       "      <td>21853</td>\n",
       "      <td>True</td>\n",
       "      <td>2020-12-12 20:23:59</td>\n",
       "      <td>Facts are immutable, Senator, even when you're...</td>\n",
       "      <td>NaN</td>\n",
       "      <td>Twitter Web App</td>\n",
       "      <td>446</td>\n",
       "      <td>2129</td>\n",
       "      <td>False</td>\n",
       "    </tr>\n",
       "    <tr>\n",
       "      <th>4</th>\n",
       "      <td>1337854064604966912</td>\n",
       "      <td>Citizen News Channel</td>\n",
       "      <td>NaN</td>\n",
       "      <td>Citizen News Channel bringing you an alternati...</td>\n",
       "      <td>2020-04-23 17:58:42</td>\n",
       "      <td>152</td>\n",
       "      <td>580</td>\n",
       "      <td>1473</td>\n",
       "      <td>False</td>\n",
       "      <td>2020-12-12 20:17:19</td>\n",
       "      <td>Explain to me again why we need a vaccine @Bor...</td>\n",
       "      <td>['whereareallthesickpeople', 'PfizerBioNTech']</td>\n",
       "      <td>Twitter for iPhone</td>\n",
       "      <td>0</td>\n",
       "      <td>0</td>\n",
       "      <td>False</td>\n",
       "    </tr>\n",
       "  </tbody>\n",
       "</table>\n",
       "</div>"
      ],
      "text/plain": [
       "                    id                user_name              user_location  \\\n",
       "0  1340539111971516416               Rachel Roh  La Crescenta-Montrose, CA   \n",
       "1  1338158543359250433              Albert Fong          San Francisco, CA   \n",
       "2  1337858199140118533  elið±ð¹ðªðºð                   Your Bed   \n",
       "3  1337855739918835717            Charles Adler     Vancouver, BC - Canada   \n",
       "4  1337854064604966912     Citizen News Channel                        NaN   \n",
       "\n",
       "                                    user_description         user_created  \\\n",
       "0  Aggregator of Asian American news; scanning di...  2009-04-08 17:52:46   \n",
       "1  Marketing dude, tech geek, heavy metal & '80s ...  2009-09-21 15:27:30   \n",
       "2                                heil, hydra ðâº  2020-06-25 23:30:28   \n",
       "3  Hosting \"CharlesAdlerTonight\" Global News Radi...  2008-09-10 11:28:53   \n",
       "4  Citizen News Channel bringing you an alternati...  2020-04-23 17:58:42   \n",
       "\n",
       "   user_followers  user_friends  user_favourites  user_verified  \\\n",
       "0             405          1692             3247          False   \n",
       "1             834           666              178          False   \n",
       "2              10            88              155          False   \n",
       "3           49165          3933            21853           True   \n",
       "4             152           580             1473          False   \n",
       "\n",
       "                  date                                               text  \\\n",
       "0  2020-12-20 06:06:44  Same folks said daikon paste could treat a cyt...   \n",
       "1  2020-12-13 16:27:13  While the world has been on the wrong side of ...   \n",
       "2  2020-12-12 20:33:45  #coronavirus #SputnikV #AstraZeneca #PfizerBio...   \n",
       "3  2020-12-12 20:23:59  Facts are immutable, Senator, even when you're...   \n",
       "4  2020-12-12 20:17:19  Explain to me again why we need a vaccine @Bor...   \n",
       "\n",
       "                                            hashtags               source  \\\n",
       "0                                 ['PfizerBioNTech']  Twitter for Android   \n",
       "1                                                NaN      Twitter Web App   \n",
       "2  ['coronavirus', 'SputnikV', 'AstraZeneca', 'Pf...  Twitter for Android   \n",
       "3                                                NaN      Twitter Web App   \n",
       "4     ['whereareallthesickpeople', 'PfizerBioNTech']   Twitter for iPhone   \n",
       "\n",
       "   retweets  favorites  is_retweet  \n",
       "0         0          0       False  \n",
       "1         1          1       False  \n",
       "2         0          0       False  \n",
       "3       446       2129       False  \n",
       "4         0          0       False  "
      ]
     },
     "execution_count": 2,
     "metadata": {},
     "output_type": "execute_result"
    }
   ],
   "source": [
    "df = pd.read_csv('data/vaccination_tweets.csv',encoding = \"ISO-8859-1\")\n",
    "df.head(5)"
   ]
  },
  {
   "cell_type": "code",
   "execution_count": 3,
   "id": "2d5f0758",
   "metadata": {},
   "outputs": [
    {
     "data": {
      "text/plain": [
       "id                     0\n",
       "user_name              0\n",
       "user_location       1630\n",
       "user_description     506\n",
       "user_created           0\n",
       "user_followers         0\n",
       "user_friends           0\n",
       "user_favourites        0\n",
       "user_verified          0\n",
       "date                   0\n",
       "text                   0\n",
       "hashtags            1949\n",
       "source                 1\n",
       "retweets               0\n",
       "favorites              0\n",
       "is_retweet             0\n",
       "dtype: int64"
      ]
     },
     "execution_count": 3,
     "metadata": {},
     "output_type": "execute_result"
    }
   ],
   "source": [
    "df.isnull().sum()"
   ]
  },
  {
   "cell_type": "code",
   "execution_count": 4,
   "id": "25b9ec1e",
   "metadata": {},
   "outputs": [],
   "source": [
    "df.dropna(axis = 0, how = \"any\", inplace= True)"
   ]
  },
  {
   "cell_type": "code",
   "execution_count": 5,
   "id": "da8449a6",
   "metadata": {},
   "outputs": [
    {
     "name": "stdout",
     "output_type": "stream",
     "text": [
      "<class 'str'>\n"
     ]
    }
   ],
   "source": [
    "print (type(df.loc[0, 'hashtags']))"
   ]
  },
  {
   "cell_type": "code",
   "execution_count": 6,
   "id": "0ebe468b",
   "metadata": {},
   "outputs": [],
   "source": [
    "df['hashtags'] = df['hashtags'].str.strip('[]')"
   ]
  },
  {
   "cell_type": "code",
   "execution_count": 7,
   "id": "24cd9aff",
   "metadata": {},
   "outputs": [],
   "source": [
    "df['hashtags'] = df['hashtags'].str.replace(\"'\",'')"
   ]
  },
  {
   "cell_type": "code",
   "execution_count": 8,
   "id": "3dd32b30",
   "metadata": {},
   "outputs": [
    {
     "data": {
      "text/html": [
       "<div>\n",
       "<style scoped>\n",
       "    .dataframe tbody tr th:only-of-type {\n",
       "        vertical-align: middle;\n",
       "    }\n",
       "\n",
       "    .dataframe tbody tr th {\n",
       "        vertical-align: top;\n",
       "    }\n",
       "\n",
       "    .dataframe thead th {\n",
       "        text-align: right;\n",
       "    }\n",
       "</style>\n",
       "<table border=\"1\" class=\"dataframe\">\n",
       "  <thead>\n",
       "    <tr style=\"text-align: right;\">\n",
       "      <th></th>\n",
       "      <th>id</th>\n",
       "      <th>user_name</th>\n",
       "      <th>user_location</th>\n",
       "      <th>user_description</th>\n",
       "      <th>user_created</th>\n",
       "      <th>user_followers</th>\n",
       "      <th>user_friends</th>\n",
       "      <th>user_favourites</th>\n",
       "      <th>user_verified</th>\n",
       "      <th>date</th>\n",
       "      <th>text</th>\n",
       "      <th>hashtags</th>\n",
       "      <th>source</th>\n",
       "      <th>retweets</th>\n",
       "      <th>favorites</th>\n",
       "      <th>is_retweet</th>\n",
       "    </tr>\n",
       "  </thead>\n",
       "  <tbody>\n",
       "    <tr>\n",
       "      <th>0</th>\n",
       "      <td>1340539111971516416</td>\n",
       "      <td>Rachel Roh</td>\n",
       "      <td>La Crescenta-Montrose, CA</td>\n",
       "      <td>Aggregator of Asian American news; scanning di...</td>\n",
       "      <td>2009-04-08 17:52:46</td>\n",
       "      <td>405</td>\n",
       "      <td>1692</td>\n",
       "      <td>3247</td>\n",
       "      <td>False</td>\n",
       "      <td>2020-12-20 06:06:44</td>\n",
       "      <td>Same folks said daikon paste could treat a cyt...</td>\n",
       "      <td>PfizerBioNTech</td>\n",
       "      <td>Twitter for Android</td>\n",
       "      <td>0</td>\n",
       "      <td>0</td>\n",
       "      <td>False</td>\n",
       "    </tr>\n",
       "    <tr>\n",
       "      <th>2</th>\n",
       "      <td>1337858199140118533</td>\n",
       "      <td>elið±ð¹ðªðºð</td>\n",
       "      <td>Your Bed</td>\n",
       "      <td>heil, hydra ðâº</td>\n",
       "      <td>2020-06-25 23:30:28</td>\n",
       "      <td>10</td>\n",
       "      <td>88</td>\n",
       "      <td>155</td>\n",
       "      <td>False</td>\n",
       "      <td>2020-12-12 20:33:45</td>\n",
       "      <td>#coronavirus #SputnikV #AstraZeneca #PfizerBio...</td>\n",
       "      <td>coronavirus, SputnikV, AstraZeneca, PfizerBioN...</td>\n",
       "      <td>Twitter for Android</td>\n",
       "      <td>0</td>\n",
       "      <td>0</td>\n",
       "      <td>False</td>\n",
       "    </tr>\n",
       "    <tr>\n",
       "      <th>6</th>\n",
       "      <td>1337851215875608579</td>\n",
       "      <td>Gunther Fehlinger</td>\n",
       "      <td>Austria, Ukraine and Kosovo</td>\n",
       "      <td>End North Stream 2 now - the pipeline of corru...</td>\n",
       "      <td>2013-06-10 17:49:22</td>\n",
       "      <td>2731</td>\n",
       "      <td>5001</td>\n",
       "      <td>69344</td>\n",
       "      <td>False</td>\n",
       "      <td>2020-12-12 20:06:00</td>\n",
       "      <td>it is a bit sad to claim the fame for success ...</td>\n",
       "      <td>vaccination</td>\n",
       "      <td>Twitter Web App</td>\n",
       "      <td>0</td>\n",
       "      <td>4</td>\n",
       "      <td>False</td>\n",
       "    </tr>\n",
       "    <tr>\n",
       "      <th>9</th>\n",
       "      <td>1337842295857623042</td>\n",
       "      <td>Ch.Amjad Ali</td>\n",
       "      <td>Islamabad</td>\n",
       "      <td>#ProudPakistani #LovePakArmy #PMIK @insafiansp...</td>\n",
       "      <td>2012-11-12 04:18:12</td>\n",
       "      <td>671</td>\n",
       "      <td>2368</td>\n",
       "      <td>20469</td>\n",
       "      <td>False</td>\n",
       "      <td>2020-12-12 19:30:33</td>\n",
       "      <td>#CovidVaccine \\n\\nStates will start getting #C...</td>\n",
       "      <td>CovidVaccine, COVID19Vaccine, US, pakustv, NYC...</td>\n",
       "      <td>Twitter Web App</td>\n",
       "      <td>0</td>\n",
       "      <td>0</td>\n",
       "      <td>False</td>\n",
       "    </tr>\n",
       "    <tr>\n",
       "      <th>10</th>\n",
       "      <td>1337841934170255365</td>\n",
       "      <td>Tamer Yazar</td>\n",
       "      <td>Turkey-Israel</td>\n",
       "      <td>Im Market Analyst, also Editor... working (fre...</td>\n",
       "      <td>2009-09-17 16:45:16</td>\n",
       "      <td>1302</td>\n",
       "      <td>78</td>\n",
       "      <td>339</td>\n",
       "      <td>False</td>\n",
       "      <td>2020-12-12 19:29:07</td>\n",
       "      <td>while deaths are closing in on the 300,000 mar...</td>\n",
       "      <td>PfizerBioNTech, Vaccine</td>\n",
       "      <td>Twitter Web App</td>\n",
       "      <td>0</td>\n",
       "      <td>0</td>\n",
       "      <td>False</td>\n",
       "    </tr>\n",
       "  </tbody>\n",
       "</table>\n",
       "</div>"
      ],
      "text/plain": [
       "                     id                user_name                user_location  \\\n",
       "0   1340539111971516416               Rachel Roh    La Crescenta-Montrose, CA   \n",
       "2   1337858199140118533  elið±ð¹ðªðºð                     Your Bed   \n",
       "6   1337851215875608579        Gunther Fehlinger  Austria, Ukraine and Kosovo   \n",
       "9   1337842295857623042             Ch.Amjad Ali                    Islamabad   \n",
       "10  1337841934170255365              Tamer Yazar                Turkey-Israel   \n",
       "\n",
       "                                     user_description         user_created  \\\n",
       "0   Aggregator of Asian American news; scanning di...  2009-04-08 17:52:46   \n",
       "2                                 heil, hydra ðâº  2020-06-25 23:30:28   \n",
       "6   End North Stream 2 now - the pipeline of corru...  2013-06-10 17:49:22   \n",
       "9   #ProudPakistani #LovePakArmy #PMIK @insafiansp...  2012-11-12 04:18:12   \n",
       "10  Im Market Analyst, also Editor... working (fre...  2009-09-17 16:45:16   \n",
       "\n",
       "    user_followers  user_friends  user_favourites  user_verified  \\\n",
       "0              405          1692             3247          False   \n",
       "2               10            88              155          False   \n",
       "6             2731          5001            69344          False   \n",
       "9              671          2368            20469          False   \n",
       "10            1302            78              339          False   \n",
       "\n",
       "                   date                                               text  \\\n",
       "0   2020-12-20 06:06:44  Same folks said daikon paste could treat a cyt...   \n",
       "2   2020-12-12 20:33:45  #coronavirus #SputnikV #AstraZeneca #PfizerBio...   \n",
       "6   2020-12-12 20:06:00  it is a bit sad to claim the fame for success ...   \n",
       "9   2020-12-12 19:30:33  #CovidVaccine \\n\\nStates will start getting #C...   \n",
       "10  2020-12-12 19:29:07  while deaths are closing in on the 300,000 mar...   \n",
       "\n",
       "                                             hashtags               source  \\\n",
       "0                                      PfizerBioNTech  Twitter for Android   \n",
       "2   coronavirus, SputnikV, AstraZeneca, PfizerBioN...  Twitter for Android   \n",
       "6                                         vaccination      Twitter Web App   \n",
       "9   CovidVaccine, COVID19Vaccine, US, pakustv, NYC...      Twitter Web App   \n",
       "10                            PfizerBioNTech, Vaccine      Twitter Web App   \n",
       "\n",
       "    retweets  favorites  is_retweet  \n",
       "0          0          0       False  \n",
       "2          0          0       False  \n",
       "6          0          4       False  \n",
       "9          0          0       False  \n",
       "10         0          0       False  "
      ]
     },
     "execution_count": 8,
     "metadata": {},
     "output_type": "execute_result"
    }
   ],
   "source": [
    "df.head(5)"
   ]
  },
  {
   "cell_type": "code",
   "execution_count": 12,
   "id": "3ceec062",
   "metadata": {},
   "outputs": [
    {
     "data": {
      "text/html": [
       "<div>\n",
       "<style scoped>\n",
       "    .dataframe tbody tr th:only-of-type {\n",
       "        vertical-align: middle;\n",
       "    }\n",
       "\n",
       "    .dataframe tbody tr th {\n",
       "        vertical-align: top;\n",
       "    }\n",
       "\n",
       "    .dataframe thead th {\n",
       "        text-align: right;\n",
       "    }\n",
       "</style>\n",
       "<table border=\"1\" class=\"dataframe\">\n",
       "  <thead>\n",
       "    <tr style=\"text-align: right;\">\n",
       "      <th></th>\n",
       "      <th>id</th>\n",
       "      <th>user_name</th>\n",
       "      <th>user_location</th>\n",
       "      <th>user_description</th>\n",
       "      <th>user_created</th>\n",
       "      <th>user_followers</th>\n",
       "      <th>user_friends</th>\n",
       "      <th>user_favourites</th>\n",
       "      <th>user_verified</th>\n",
       "      <th>date</th>\n",
       "      <th>text</th>\n",
       "      <th>hashtags</th>\n",
       "      <th>source</th>\n",
       "      <th>retweets</th>\n",
       "      <th>favorites</th>\n",
       "      <th>is_retweet</th>\n",
       "    </tr>\n",
       "  </thead>\n",
       "  <tbody>\n",
       "    <tr>\n",
       "      <th>0</th>\n",
       "      <td>1340539111971516416</td>\n",
       "      <td>Rachel Roh</td>\n",
       "      <td>La Crescenta-Montrose, CA</td>\n",
       "      <td>Aggregator of Asian American news; scanning di...</td>\n",
       "      <td>2009-04-08 17:52:46</td>\n",
       "      <td>405</td>\n",
       "      <td>1692</td>\n",
       "      <td>3247</td>\n",
       "      <td>False</td>\n",
       "      <td>2020-12-20</td>\n",
       "      <td>Same folks said daikon paste could treat a cyt...</td>\n",
       "      <td>PfizerBioNTech</td>\n",
       "      <td>Twitter for Android</td>\n",
       "      <td>0</td>\n",
       "      <td>0</td>\n",
       "      <td>False</td>\n",
       "    </tr>\n",
       "    <tr>\n",
       "      <th>2</th>\n",
       "      <td>1337858199140118533</td>\n",
       "      <td>elið±ð¹ðªðºð</td>\n",
       "      <td>Your Bed</td>\n",
       "      <td>heil, hydra ðâº</td>\n",
       "      <td>2020-06-25 23:30:28</td>\n",
       "      <td>10</td>\n",
       "      <td>88</td>\n",
       "      <td>155</td>\n",
       "      <td>False</td>\n",
       "      <td>2020-12-12</td>\n",
       "      <td>#coronavirus #SputnikV #AstraZeneca #PfizerBio...</td>\n",
       "      <td>coronavirus, SputnikV, AstraZeneca, PfizerBioN...</td>\n",
       "      <td>Twitter for Android</td>\n",
       "      <td>0</td>\n",
       "      <td>0</td>\n",
       "      <td>False</td>\n",
       "    </tr>\n",
       "  </tbody>\n",
       "</table>\n",
       "</div>"
      ],
      "text/plain": [
       "                    id                user_name              user_location  \\\n",
       "0  1340539111971516416               Rachel Roh  La Crescenta-Montrose, CA   \n",
       "2  1337858199140118533  elið±ð¹ðªðºð                   Your Bed   \n",
       "\n",
       "                                    user_description         user_created  \\\n",
       "0  Aggregator of Asian American news; scanning di...  2009-04-08 17:52:46   \n",
       "2                                heil, hydra ðâº  2020-06-25 23:30:28   \n",
       "\n",
       "   user_followers  user_friends  user_favourites  user_verified        date  \\\n",
       "0             405          1692             3247          False  2020-12-20   \n",
       "2              10            88              155          False  2020-12-12   \n",
       "\n",
       "                                                text  \\\n",
       "0  Same folks said daikon paste could treat a cyt...   \n",
       "2  #coronavirus #SputnikV #AstraZeneca #PfizerBio...   \n",
       "\n",
       "                                            hashtags               source  \\\n",
       "0                                     PfizerBioNTech  Twitter for Android   \n",
       "2  coronavirus, SputnikV, AstraZeneca, PfizerBioN...  Twitter for Android   \n",
       "\n",
       "   retweets  favorites  is_retweet  \n",
       "0         0          0       False  \n",
       "2         0          0       False  "
      ]
     },
     "execution_count": 12,
     "metadata": {},
     "output_type": "execute_result"
    }
   ],
   "source": [
    "#Clean the date, just want the day without the hour\n",
    "df['date'] = df.date.apply(cl.coincidencia)\n",
    "df.head(2)"
   ]
  },
  {
   "cell_type": "code",
   "execution_count": 12,
   "id": "3bf63561",
   "metadata": {},
   "outputs": [
    {
     "name": "stdout",
     "output_type": "stream",
     "text": [
      "<class 'str'>\n"
     ]
    }
   ],
   "source": [
    "#Converse the numbers in str in order to make the endpoints\n",
    "df['favorites'] = df['favorites'].astype(str)\n",
    "print (type(df.loc[0, 'favorites']))"
   ]
  },
  {
   "cell_type": "code",
   "execution_count": 13,
   "id": "9d4e0c47",
   "metadata": {},
   "outputs": [],
   "source": [
    "df.to_json(\"vaccination_tweets_json\", orient=\"records\")"
   ]
  },
  {
   "cell_type": "markdown",
   "id": "deb5307c",
   "metadata": {},
   "source": [
    "### Export the DF to MongoDB"
   ]
  },
  {
   "cell_type": "code",
   "execution_count": 32,
   "id": "9d20e71e",
   "metadata": {},
   "outputs": [
    {
     "name": "stdout",
     "output_type": "stream",
     "text": [
      "2021-05-02T13:36:30.047+0200\tconnected to: mongodb://localhost/\n",
      "2021-05-02T13:36:30.459+0200\t4749 document(s) imported successfully. 0 document(s) failed to import.\n"
     ]
    }
   ],
   "source": [
    "!mongoimport --db Project --collection tweets --jsonArray vaccination_tweets_json"
   ]
  },
  {
   "cell_type": "markdown",
   "id": "73cde00a",
   "metadata": {},
   "source": [
    "## DF for Sentimental Analysis"
   ]
  },
  {
   "cell_type": "code",
   "execution_count": 14,
   "id": "2edce947",
   "metadata": {},
   "outputs": [],
   "source": [
    "df.to_csv(\"data/sentimental_analysis.csv\")"
   ]
  }
 ],
 "metadata": {
  "kernelspec": {
   "display_name": "ironhack",
   "language": "python",
   "name": "ironhack"
  },
  "language_info": {
   "codemirror_mode": {
    "name": "ipython",
    "version": 3
   },
   "file_extension": ".py",
   "mimetype": "text/x-python",
   "name": "python",
   "nbconvert_exporter": "python",
   "pygments_lexer": "ipython3",
   "version": "3.8.8"
  }
 },
 "nbformat": 4,
 "nbformat_minor": 5
}
